{
 "cells": [
  {
   "cell_type": "code",
   "execution_count": null,
   "metadata": {},
   "outputs": [],
   "source": [
    "from langchain_community.document_loaders import TextLoader\n",
    "from langchain.text_splitter import RecursiveCharacterTextSplitter\n",
    "from langchain_google_genai import ChatGoogleGenerativeAI\n",
    "from langchain_redis import RedisVectorStore\n",
    "\n",
    "from langchain_chroma import Chroma\n",
    "\n",
    "from langchain_google_genai import GoogleGenerativeAIEmbeddings\n",
    "from langchain_core.prompts import ChatPromptTemplate\n",
    "import os\n",
    "from dotenv import load_dotenv\n",
    "load_dotenv()\n",
    "os.environ['GOOGLE_API_KEY'] = os.getenv('GOOGLE_API_KEY')"
   ]
  },
  {
   "cell_type": "code",
   "execution_count": null,
   "metadata": {},
   "outputs": [
    {
     "name": "stdout",
     "output_type": "stream",
     "text": [
      "Successfully added documents to Redis vector store\n",
      "Successfully added documents to Chroma vector store\n"
     ]
    }
   ],
   "source": [
    "# Vector Store\n",
    "\n",
    "# Load data from file\n",
    "loader = TextLoader('data/sample_data.txt')\n",
    "documents = loader.load()\n",
    "\n",
    "# Split data into chunks\n",
    "text_splitter = RecursiveCharacterTextSplitter(\n",
    "    chunk_size=1000,\n",
    "    chunk_overlap=200\n",
    ")\n",
    "texts = text_splitter.split_documents(documents)\n",
    "\n",
    "# Embed data\n",
    "embeddings = GoogleGenerativeAIEmbeddings(\n",
    "    model=\"models/text-embedding-004\",\n",
    "    google_api_key=os.getenv('GOOGLE_API_KEY')\n",
    ")\n",
    "\n",
    "# Redis Vector Store\n",
    "vector_store = RedisVectorStore(\n",
    "    redis_url= os.getenv('REDIS_URL'),\n",
    "    index_name=\"langchain_index\",\n",
    "    embeddings=embeddings,\n",
    "    index_type=\"hnsw\"\n",
    ")\n",
    "\n",
    "\n",
    "vector_store.add_documents(texts)\n",
    "print(\"Successfully added documents to Redis vector store\")\n",
    "\n",
    "# Khusus yang pakai chroma \n",
    "# Chroma Vector Store\n",
    "chroma_vector_store = Chroma.from_documents(\n",
    "    documents=texts,\n",
    "    embedding=embeddings,\n",
    "    persist_directory=\"chroma_db\"\n",
    ")\n",
    "print(\"Successfully added documents to Chroma vector store\")"
   ]
  },
  {
   "cell_type": "code",
   "execution_count": 8,
   "metadata": {},
   "outputs": [
    {
     "data": {
      "text/plain": [
       "[Document(metadata={}, page_content='Mobile Developer\\nGetasan Apps is an application used by the Getasan District in Semarang Regency to receive reports from residents.\\nTechStack : Flutter, FlutterBloc, Golang, MySQL\\nGithub Url :https://github.com/marioapn3/AsetGetasan\\nSirekam\\tApr - May 2024\\nFullstack Developer\\nSIREKAM is developed to streamline the system of recording and calculating Student Activity Credit Unit (SAKU) documents at Yogyakarta Health Polytechnic (Politeknik Kesehatan Yogyakarta). This application aims to facilitate efficient documentation, calculation, and management of student activity credits, ensuring organized and accessible records for both students and administrators.\\nTechStack : Laravel, AlpineJS, TailwindCSS, MySQL\\nApps Url : https://www.sirekampolkesyogya.com/\\nRAB PDAM Semarang Regency\\tSep - Oct 2024\\nFullstack Developer'),\n",
       " Document(metadata={}, page_content='Mario Aprilnino Prasetyo\\nSemarang, Indonesia | +62 812 4743 0546 | https://www.linkedin.com/in/mario-aprilnino/ | mario.aprilnino27@gmail.com | https://marioapn.my.id/\\n\\nEducation\\n\\nDian Nuswantoro University - Semarang Indonesia\\tSep 2022 - Jan 2026 (Expected)\\n\\nBachelor of Degree in Informatics Engineering, 3.95/4.00')]"
      ]
     },
     "execution_count": 8,
     "metadata": {},
     "output_type": "execute_result"
    }
   ],
   "source": [
    "vector_store.similarity_search(\"Mario\",k=2)"
   ]
  },
  {
   "cell_type": "code",
   "execution_count": 9,
   "metadata": {},
   "outputs": [
    {
     "data": {
      "text/plain": [
       "[Document(id='d4ba96f3-1e2a-4d44-a121-2ea420316dc4', metadata={'source': 'data/sample_data.txt'}, page_content='Mobile Developer\\nGetasan Apps is an application used by the Getasan District in Semarang Regency to receive reports from residents.\\nTechStack : Flutter, FlutterBloc, Golang, MySQL\\nGithub Url :https://github.com/marioapn3/AsetGetasan\\nSirekam\\tApr - May 2024\\nFullstack Developer\\nSIREKAM is developed to streamline the system of recording and calculating Student Activity Credit Unit (SAKU) documents at Yogyakarta Health Polytechnic (Politeknik Kesehatan Yogyakarta). This application aims to facilitate efficient documentation, calculation, and management of student activity credits, ensuring organized and accessible records for both students and administrators.\\nTechStack : Laravel, AlpineJS, TailwindCSS, MySQL\\nApps Url : https://www.sirekampolkesyogya.com/\\nRAB PDAM Semarang Regency\\tSep - Oct 2024\\nFullstack Developer'),\n",
       " Document(id='8d29034c-ccde-4e6b-be8a-3d56bbd17521', metadata={'source': 'data/sample_data.txt'}, page_content='Mario Aprilnino Prasetyo\\nSemarang, Indonesia | +62 812 4743 0546 | https://www.linkedin.com/in/mario-aprilnino/ | mario.aprilnino27@gmail.com | https://marioapn.my.id/\\n\\nEducation\\n\\nDian Nuswantoro University - Semarang Indonesia\\tSep 2022 - Jan 2026 (Expected)\\n\\nBachelor of Degree in Informatics Engineering, 3.95/4.00')]"
      ]
     },
     "execution_count": 9,
     "metadata": {},
     "output_type": "execute_result"
    }
   ],
   "source": [
    "chroma_vector_store.similarity_search(\"Mario\",k=2)"
   ]
  },
  {
   "cell_type": "code",
   "execution_count": 10,
   "metadata": {},
   "outputs": [],
   "source": [
    "llm = ChatGoogleGenerativeAI(\n",
    "    model=\"gemini-1.5-flash\",\n",
    "    google_api_key=os.getenv('GOOGLE_API_KEY')\n",
    ")\n"
   ]
  },
  {
   "cell_type": "code",
   "execution_count": 11,
   "metadata": {},
   "outputs": [
    {
     "data": {
      "text/plain": [
       "AIMessage(content='Mario adalah karakter fiksi ikonik dan maskot dari Nintendo.  Dia adalah seorang tukang ledeng Italia yang terkenal karena petualangannya dalam video game, terutama seri *Super Mario Bros.*  Dia biasanya digambarkan sebagai seorang pria pendek, gemuk, dengan pakaian biru dan merah, dan memiliki kemampuan untuk melompat tinggi, mengumpulkan koin, dan mengalahkan musuh-musuh seperti Bowser.\\n', additional_kwargs={}, response_metadata={'prompt_feedback': {'block_reason': 0, 'safety_ratings': []}, 'finish_reason': 'STOP', 'safety_ratings': []}, id='run--42c322a1-0808-4800-9890-1dc5c83e5930-0', usage_metadata={'input_tokens': 3, 'output_tokens': 84, 'total_tokens': 87})"
      ]
     },
     "execution_count": 11,
     "metadata": {},
     "output_type": "execute_result"
    }
   ],
   "source": [
    "llm.invoke(\"Siapa mario?\")"
   ]
  },
  {
   "cell_type": "code",
   "execution_count": 15,
   "metadata": {},
   "outputs": [
    {
     "data": {
      "text/plain": [
       "AIMessage(content='Mario Aprilnino Prasetyo adalah seorang Fullstack Developer dan Mobile Developer dari Semarang, Indonesia.  Ia sedang menempuh pendidikan S1 Teknik Informatika di Universitas Dian Nuswantoro, Semarang dengan IPK 3.95/4.00 (diperkirakan lulus Januari 2026).  Ia memiliki portofolio yang mencakup pengembangan aplikasi mobile, web, dan backend menggunakan berbagai teknologi seperti Flutter, Laravel, React, Go, dan lain-lain.  Informasi kontaknya dapat diakses melalui LinkedIn, email, dan website pribadinya.\\n', additional_kwargs={}, response_metadata={'prompt_feedback': {'block_reason': 0, 'safety_ratings': []}, 'finish_reason': 'STOP', 'safety_ratings': []}, id='run--98eb6220-4454-4e7c-8331-0a209f3f99ca-0', usage_metadata={'input_tokens': 632, 'output_tokens': 115, 'total_tokens': 747})"
      ]
     },
     "execution_count": 15,
     "metadata": {},
     "output_type": "execute_result"
    }
   ],
   "source": [
    "template = \"\"\"\n",
    "Anda adalah bot yang bertugas menjawab pertanyaan terkair data diri Mario.\n",
    "Ini adalah context yang bisa kamu gunakan : \n",
    "{context}\n",
    "\n",
    "Pertanyaan : {question}\n",
    "\"\"\"\n",
    "\n",
    "prompt = ChatPromptTemplate.from_messages([\n",
    "    (\"system\", template),\n",
    "    (\"user\", \"{question}\")\n",
    "])\n",
    "\n",
    "chain = (\n",
    "    {\n",
    "        \"context\": lambda x: vector_store.similarity_search(x[\"question\"], k=3),\n",
    "        \"question\": lambda x: x[\"question\"]\n",
    "    }\n",
    "    | prompt\n",
    "    | llm\n",
    ")\n",
    "\n",
    "chain.invoke({\"question\": \"Siapa mario?\"})"
   ]
  },
  {
   "cell_type": "code",
   "execution_count": 16,
   "metadata": {},
   "outputs": [
    {
     "name": "stdout",
     "output_type": "stream",
     "text": [
      "\n",
      "Selamat datang! Silakan ajukan pertanyaan tentang Mario. Ketik 'exit' untuk keluar.\n",
      "Bot: Mario Aprilnino Prasetyo adalah seorang Mobile dan Fullstack Developer dari Semarang, Indonesia.  Ia sedang menempuh pendidikan sarjana Teknik Informatika di Universitas Dian Nuswantoro, Semarang dengan IPK 3.95/4.00 (diperkirakan lulus Januari 2026).  Ia memiliki portofolio yang meliputi pengembangan beberapa aplikasi menggunakan berbagai teknologi seperti Flutter, Golang, Laravel, React, dan lain-lain.  Anda dapat menemukan informasi lebih lanjut tentang dirinya melalui tautan LinkedIn, email, dan portfolio website yang tertera di profilnya.\n",
      "\n",
      "Bot: Berdasarkan informasi yang diberikan, Mario Aprilnino Prasetyo tinggal di Semarang, Indonesia.\n",
      "\n",
      "Bot: Maaf, saya tidak dapat menjawab pertanyaan Anda karena tidak ada pertanyaan yang diajukan.  Silakan ajukan pertanyaan Anda tentang data diri Mario.  Saya akan mencoba menjawabnya berdasarkan informasi yang diberikan dalam dokumen konteks.\n",
      "\n",
      "Sampai jumpa!\n"
     ]
    }
   ],
   "source": [
    "def main():\n",
    "    print(\"\\nSelamat datang! Silakan ajukan pertanyaan tentang Mario. Ketik 'exit' untuk keluar.\")\n",
    "    while True:\n",
    "        question = input(\"Anda: \")\n",
    "        if question.lower() == 'exit':\n",
    "            print(\"Sampai jumpa!\")\n",
    "            break\n",
    "        response = chain.invoke({\"question\": question})\n",
    "        print(f\"Bot: {response.content}\")\n",
    "\n",
    "if __name__ == \"__main__\":\n",
    "    main() "
   ]
  }
 ],
 "metadata": {
  "kernelspec": {
   "display_name": "env",
   "language": "python",
   "name": "python3"
  },
  "language_info": {
   "codemirror_mode": {
    "name": "ipython",
    "version": 3
   },
   "file_extension": ".py",
   "mimetype": "text/x-python",
   "name": "python",
   "nbconvert_exporter": "python",
   "pygments_lexer": "ipython3",
   "version": "3.12.10"
  }
 },
 "nbformat": 4,
 "nbformat_minor": 2
}
